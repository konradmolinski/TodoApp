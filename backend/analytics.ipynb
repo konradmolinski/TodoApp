{
 "cells": [
  {
   "cell_type": "code",
   "execution_count": 4,
   "id": "83fb24ae-ca5a-4003-8bf6-92afab5bba16",
   "metadata": {},
   "outputs": [],
   "source": [
    "from sqlalchemy_playground import session\n",
    "from todo_app.db_models import DBCategory, DBUser, DBTask, DBTasksLog\n",
    "from sqlalchemy.sql import functions\n"
   ]
  },
  {
   "cell_type": "code",
   "execution_count": 9,
   "id": "8f4c54e9-f0fa-492b-84ef-fa5cfbf65e94",
   "metadata": {},
   "outputs": [
    {
     "data": {
      "text/plain": [
       "12"
      ]
     },
     "execution_count": 9,
     "metadata": {},
     "output_type": "execute_result"
    }
   ],
   "source": [
    "session.query(DBTasksLog).filter(DBTasksLog.executor_id==1).count()"
   ]
  },
  {
   "cell_type": "code",
   "execution_count": 10,
   "id": "2d0040cf-96e2-4853-91b4-09f1050d0827",
   "metadata": {},
   "outputs": [
    {
     "data": {
      "text/plain": [
       "0"
      ]
     },
     "execution_count": 10,
     "metadata": {},
     "output_type": "execute_result"
    }
   ],
   "source": [
    "session.query(DBTasksLog).filter(DBTasksLog.executor_id==2).count()"
   ]
  }
 ],
 "metadata": {
  "kernelspec": {
   "display_name": "Python 3 (ipykernel)",
   "language": "python",
   "name": "python3"
  },
  "language_info": {
   "codemirror_mode": {
    "name": "ipython",
    "version": 3
   },
   "file_extension": ".py",
   "mimetype": "text/x-python",
   "name": "python",
   "nbconvert_exporter": "python",
   "pygments_lexer": "ipython3",
   "version": "3.10.8"
  }
 },
 "nbformat": 4,
 "nbformat_minor": 5
}
